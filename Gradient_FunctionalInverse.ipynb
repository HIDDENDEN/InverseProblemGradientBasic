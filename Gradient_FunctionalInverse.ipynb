{
  "nbformat": 4,
  "nbformat_minor": 0,
  "metadata": {
    "colab": {
      "name": "Gradient FunctionalInverse.ipynb",
      "provenance": [],
      "collapsed_sections": [],
      "mount_file_id": "1egp-NWa5cYMsJT5O_xdXaeu8ryRzBUd4",
      "authorship_tag": "ABX9TyPYP1cBWz5ULRKjeWR1fizX",
      "include_colab_link": true
    },
    "kernelspec": {
      "display_name": "Python 3",
      "name": "python3"
    }
  },
  "cells": [
    {
      "cell_type": "markdown",
      "metadata": {
        "id": "view-in-github",
        "colab_type": "text"
      },
      "source": [
        "<a href=\"https://colab.research.google.com/github/HIDDENDEN/InverseProblemGradientBasic/blob/main/Gradient_FunctionalInverse.ipynb\" target=\"_parent\"><img src=\"https://colab.research.google.com/assets/colab-badge.svg\" alt=\"Open In Colab\"/></a>"
      ]
    },
    {
      "cell_type": "markdown",
      "metadata": {
        "id": "Hz2SBDM6Fksw"
      },
      "source": [
        "*Select which test metod to implement*\n",
        "*    *Set 'controller' variable next values:*\n",
        "          \n",
        "*          * **=1** to implement **base** variant*\n",
        "*          * **=2** to implement **trigonometry** variant*\n",
        "*          * **=3** to implement **degree** variant*"
      ]
    },
    {
      "cell_type": "code",
      "metadata": {
        "id": "PrHYtQfQFncp"
      },
      "source": [
        "# controller = 1\n",
        "# http://www.apmath.spbu.ru/ru/staff/abbasov_m_e/files/MO1.pdf\n",
        "controller = 2\n",
        "\n",
        "# controller = 3"
      ],
      "execution_count": null,
      "outputs": []
    },
    {
      "cell_type": "markdown",
      "metadata": {
        "id": "ObqUeavhFp3g"
      },
      "source": [
        "*Importing different files in case of chosen controller value*"
      ]
    },
    {
      "cell_type": "code",
      "metadata": {
        "id": "pBSHQcjRFxon"
      },
      "source": [
        "if (controller == 1):\n",
        "  !cp \"drive/My Drive/Science_res/InverseProblem/base/At.py\" .\n",
        "  import At\n",
        "\n",
        "  !cp \"drive/My Drive/Science_res/InverseProblem/base/Betax.py\" .\n",
        "  import Betax\n",
        "\n",
        "  !cp \"drive/My Drive/Science_res/InverseProblem/base/Ht.py\" .\n",
        "  import Ht\n",
        "\n",
        "  !cp \"drive/My Drive/Science_res/InverseProblem/base/Kcit.py\" .\n",
        "  import Kcit\n"
      ],
      "execution_count": null,
      "outputs": []
    },
    {
      "cell_type": "code",
      "metadata": {
        "id": "sfbd-XqMGBhb"
      },
      "source": [
        "if (controller == 2):\n",
        "  !cp \"drive/My Drive/Science_res/InverseProblem/trigonometric/At.py\" .\n",
        "  import At\n",
        "\n",
        "  !cp \"drive/My Drive/Science_res/InverseProblem/trigonometric/Betax.py\" .\n",
        "  import Betax\n",
        "\n",
        "  !cp \"drive/My Drive/Science_res/InverseProblem/trigonometric/Ht.py\" .\n",
        "  import Ht\n",
        "\n",
        "  !cp \"drive/My Drive/Science_res/InverseProblem/trigonometric/Kcit.py\" .\n",
        "  import Kcit\n"
      ],
      "execution_count": null,
      "outputs": []
    },
    {
      "cell_type": "code",
      "metadata": {
        "id": "1sNJYAQZGCfc"
      },
      "source": [
        "if (controller == 3):\n",
        "  !cp \"drive/My Drive/Science_res/InverseProblem/degree/At.py\" .\n",
        "  import At\n",
        "\n",
        "  !cp \"drive/My Drive/Science_res/InverseProblem/degree/Betax.py\" .\n",
        "  import Betax\n",
        "\n",
        "  !cp \"drive/My Drive/Science_res/InverseProblem/degree/Ht.py\" .\n",
        "  import Ht\n",
        "\n",
        "  !cp \"drive/My Drive/Science_res/InverseProblem/degree/Kcit.py\" .\n",
        "  import Kcit\n"
      ],
      "execution_count": null,
      "outputs": []
    },
    {
      "cell_type": "code",
      "metadata": {
        "colab": {
          "base_uri": "https://localhost:8080/"
        },
        "id": "-x-RxxTEXCgK",
        "outputId": "cd001e57-c4e2-4bbc-af83-7f62363c68c7"
      },
      "source": [
        "pip install findiff"
      ],
      "execution_count": null,
      "outputs": [
        {
          "output_type": "stream",
          "text": [
            "Requirement already satisfied: findiff in /usr/local/lib/python3.7/dist-packages (0.8.9)\n",
            "Requirement already satisfied: numpy in /usr/local/lib/python3.7/dist-packages (from findiff) (1.19.5)\n",
            "Requirement already satisfied: sympy in /usr/local/lib/python3.7/dist-packages (from findiff) (1.7.1)\n",
            "Requirement already satisfied: scipy in /usr/local/lib/python3.7/dist-packages (from findiff) (1.4.1)\n",
            "Requirement already satisfied: mpmath>=0.19 in /usr/local/lib/python3.7/dist-packages (from sympy->findiff) (1.2.1)\n"
          ],
          "name": "stdout"
        }
      ]
    },
    {
      "cell_type": "markdown",
      "metadata": {
        "id": "tX08FxgEZEyO"
      },
      "source": [
        "All imports\n"
      ]
    },
    {
      "cell_type": "code",
      "metadata": {
        "id": "L_C4unqJZEMC"
      },
      "source": [
        "import numpy as np\n",
        "np.set_printoptions(linewidth=np.inf)# no extra newlines in output\n",
        "\n",
        "import math\n",
        "\n",
        "\n",
        "# define operator\n",
        "from findiff import FinDiff\n",
        "\n",
        "from copy import deepcopy\n",
        "\n",
        "# We'll draw using matplot lib\n",
        "# importing the library \n",
        "import matplotlib.pyplot as plt  "
      ],
      "execution_count": null,
      "outputs": []
    },
    {
      "cell_type": "markdown",
      "metadata": {
        "id": "uRFCoFtUXNIn"
      },
      "source": [
        "Initializing functions"
      ]
    },
    {
      "cell_type": "code",
      "metadata": {
        "id": "Y2HVOXerXPGv"
      },
      "source": [
        "func_a_t = At.A_t()\n",
        "func_kci_t = Kcit.Kci_t()\n",
        "func_beta_x = Betax.Beta_x()\n",
        "# func_h_t_func = Ht.H_t()"
      ],
      "execution_count": null,
      "outputs": []
    },
    {
      "cell_type": "code",
      "metadata": {
        "id": "J11Dg7b5XZ6Y"
      },
      "source": [
        "def printArray(a):\n",
        "    for row in range(len(a[0])):\n",
        "        for col in range (len(a[0])):\n",
        "            b = print(\"{:8.3f}\".format(a[row][col]), end = \" \")\n",
        "        print(b)"
      ],
      "execution_count": null,
      "outputs": []
    },
    {
      "cell_type": "markdown",
      "metadata": {
        "id": "qO9D8jSqXcoO"
      },
      "source": [
        "Initializing step sizes"
      ]
    },
    {
      "cell_type": "code",
      "metadata": {
        "id": "uBePv08kXfnV"
      },
      "source": [
        "# Test L = 1 and T = 1\n",
        "# Test num_of_steps N_x = 10 , N_t = 10\n",
        "L = 1\n",
        "T = 1\n",
        "N_x = 100\n",
        "N_t = 100\n",
        "\n",
        "h_x_axys = L/N_x\n",
        "h_t_axys = T/N_t\n",
        "\n",
        "#Test segment 0 <= x <= 1\n",
        "#Test segment 0 <= t <= 1\n",
        "\n",
        "x_0 = 0\n",
        "t_0 = 0"
      ],
      "execution_count": null,
      "outputs": []
    },
    {
      "cell_type": "markdown",
      "metadata": {
        "id": "meFd3aSGF-fK"
      },
      "source": [
        "# **00)Setting kind of polinom**"
      ]
    },
    {
      "cell_type": "markdown",
      "metadata": {
        "id": "pTv3sCpeGFk8"
      },
      "source": [
        "let it be: fi_0 + fi_1 * s + fi_2 * s^2"
      ]
    },
    {
      "cell_type": "markdown",
      "metadata": {
        "id": "Pbi_Op8IGTZY"
      },
      "source": [
        "def function : calculateFi(fi_0,fi_1,fi_2,point)"
      ]
    },
    {
      "cell_type": "code",
      "metadata": {
        "id": "9SApeI3TGErl"
      },
      "source": [
        "def calculateFi(point, fi_0,fi_1,fi_2,fi_3 = 0, fi_4 = 0 ):\n",
        "  return fi_0 + fi_1 * point + fi_2 * (point ** 2) + fi_3 * (point ** 3) + fi_4 * (point ** 4)"
      ],
      "execution_count": null,
      "outputs": []
    },
    {
      "cell_type": "code",
      "metadata": {
        "id": "CN7O5OchOyG4"
      },
      "source": [
        "# print(calculateFi(2,1,2,3))"
      ],
      "execution_count": null,
      "outputs": []
    },
    {
      "cell_type": "markdown",
      "metadata": {
        "id": "YDxXjzdwZYlu"
      },
      "source": [
        "# **0)Functionality methods**"
      ]
    },
    {
      "cell_type": "code",
      "metadata": {
        "id": "8SsSVDmfZd6L"
      },
      "source": [
        "def getIndexOfElementInArray(value,inputArray):\n",
        "  ret_Index = -1\n",
        "  for element in inputArray:\n",
        "    if (element > value):\n",
        "      return ret_Index\n",
        "    else:\n",
        "      ret_Index+=1\n",
        "  if (abs(value - inputArray[len(inputArray)-1])<0.001):\n",
        "    return ret_Index\n",
        "  raise ValueError('Error in method \\\" getIndexOfElementInArray() \\\" : value out of inputArray ' + ': value = '+str(value) + ' : inputArray = ' + str(inputArray))"
      ],
      "execution_count": null,
      "outputs": []
    },
    {
      "cell_type": "code",
      "metadata": {
        "colab": {
          "base_uri": "https://localhost:8080/"
        },
        "id": "Ag1bu9zMcf2B",
        "outputId": "04545ef4-11db-4499-92db-a164d889777e"
      },
      "source": [
        "testArr = np.array([0.1,0.2,0.3,0.4])\n",
        "value = 0.4001\n",
        "print(getIndexOfElementInArray(value,testArr))"
      ],
      "execution_count": null,
      "outputs": [
        {
          "output_type": "stream",
          "text": [
            "3\n"
          ],
          "name": "stdout"
        }
      ]
    },
    {
      "cell_type": "markdown",
      "metadata": {
        "id": "R3USHDF7Ylcv"
      },
      "source": [
        "# **1) Initializing h(t) function (descrete) and methods for it**"
      ]
    },
    {
      "cell_type": "code",
      "metadata": {
        "id": "1tMH7a6PXlIN"
      },
      "source": [
        "DESCRETE_args_h_t_func = np.array([0.  , 0.01, 0.02, 0.03, 0.04, 0.05, 0.06, 0.07, 0.08, 0.09, 0.1 , 0.11, 0.12, 0.13, 0.14, 0.15, 0.16, 0.17, 0.18, 0.19, 0.2 , 0.21, 0.22, 0.23, 0.24, 0.25, 0.26, 0.27, 0.28, 0.29, 0.3 , 0.31, 0.32, 0.33, 0.34, 0.35, 0.36, 0.37, 0.38, 0.39, 0.4 , 0.41, 0.42, 0.43, 0.44, 0.45, 0.46, 0.47, 0.48, 0.49, 0.5 , 0.51, 0.52, 0.53, 0.54, 0.55, 0.56, 0.57, 0.58, 0.59, 0.6 , 0.61, 0.62, 0.63, 0.64, 0.65, 0.66, 0.67, 0.68, 0.69, 0.7 , 0.71, 0.72, 0.73, 0.74, 0.75, 0.76, 0.77, 0.78, 0.79, 0.8 , 0.81, 0.82, 0.83, 0.84, 0.85, 0.86, 0.87, 0.88, 0.89, 0.9 , 0.91, 0.92, 0.93, 0.94, 0.95, 0.96, 0.97, 0.98, 0.99, 1.  ])\n",
        "\n",
        "if (controller == 1): #base\n",
        "  DESCRETE_values_h_t_func = np.array([1.   , 1.   , 1.   , 1.   , 1.   , 1.   , 1.   , 0.998, 0.998, 0.997, 0.996, 0.995, 0.994, 0.993, 0.992, 0.991, 0.989, 0.989, 0.987, 0.985, 0.983, 0.981, 0.979, 0.979, 0.977, 0.975, 0.973, 0.97 , 0.968, 0.966, 0.963, 0.961, 0.959, 0.957, 0.954, 0.952, 0.948, 0.948, 0.944, 0.941, 0.939, 0.937, 0.933, 0.931, 0.93 , 0.926, 0.923, 0.921, 0.917, 0.914, 0.912, 0.908, 0.905, 0.903, 0.899, 0.896, 0.892, 0.889, 0.885, 0.884, 0.878, 0.876, 0.873, 0.868, 0.867, 0.862, 0.858, 0.856, 0.85 , 0.85 , 0.844, 0.842, 0.838, 0.833, 0.834, 0.826, 0.825, 0.821, 0.815, 0.815, 0.808, 0.809, 0.801, 0.802, 0.794, 0.793, 0.789, 0.782, 0.781, 0.775, 0.774, 0.768, 0.767, 0.76 , 0.76 , 0.752, 0.752, 0.744, 0.745, 0.737, 0.738])\n",
        "elif (controller == 2): #trigonometry\n",
        "  DESCRETE_values_h_t_func = np.array([0.01745241, 0.057     , 0.095     , 0.133     , 0.169     , 0.202     , 0.238     , 0.268     , 0.304     , 0.331     , 0.363     , 0.389     , 0.419     , 0.444     , 0.47      , 0.495     , 0.518     , 0.543     , 0.563     , 0.584     , 0.606     , 0.624     , 0.643     , 0.661     , 0.678     , 0.695     , 0.71      , 0.725     , 0.74      , 0.752     , 0.766     , 0.777     , 0.788     , 0.8       , 0.81      , 0.82      , 0.829     , 0.836     , 0.845     , 0.854     , 0.859     , 0.866     , 0.872     , 0.878     , 0.882     , 0.887     , 0.887     , 0.896     , 0.895     , 0.899     , 0.9       , 0.905     , 0.903     , 0.904     , 0.909     , 0.903     , 0.907     , 0.907     , 0.904     , 0.906     , 0.902     , 0.901     , 0.9       , 0.897     , 0.897     , 0.892     , 0.888     , 0.886     , 0.882     , 0.881     , 0.872     , 0.872     , 0.868     , 0.862     , 0.861     , 0.852     , 0.849     , 0.844     , 0.84      , 0.834     , 0.827     , 0.823     , 0.815     , 0.812     , 0.804     , 0.797     , 0.798     , 0.785     , 0.781     , 0.775     , 0.765     , 0.764     , 0.753     , 0.748     , 0.74      , 0.735     , 0.722     , 0.721     , 0.713     , 0.705     , 0.697     ])  \n",
        "elif (controller == 3): #degree\n",
        "  DESCRETE_values_h_t_func = np.array([0.28171817, 0.303     , 0.323     , 0.344     , 0.364     , 0.384     , 0.401     , 0.42      , 0.437     , 0.455     , 0.472     , 0.489     , 0.506     , 0.523     , 0.537     , 0.553     , 0.567     , 0.582     , 0.596     , 0.611     , 0.624     , 0.638     , 0.651     , 0.663     , 0.676     , 0.687     , 0.699     , 0.711     , 0.722     , 0.734     , 0.744     , 0.756     , 0.766     , 0.777     , 0.786     , 0.795     , 0.806     , 0.814     , 0.821     , 0.832     , 0.839     , 0.847     , 0.856     , 0.864     , 0.871     , 0.878     , 0.887     , 0.892     , 0.899     , 0.905     , 0.914     , 0.919     , 0.926     , 0.933     , 0.939     , 0.942     , 0.953     , 0.955     , 0.963     , 0.967     , 0.973     , 0.978     , 0.982     , 0.99      , 0.994     , 0.997     , 1.005     , 1.009     , 1.016     , 1.017     , 1.026     , 1.027     , 1.033     , 1.038     , 1.04      , 1.048     , 1.051     , 1.059     , 1.061     , 1.065     , 1.074     , 1.073     , 1.079     , 1.086     , 1.09      , 1.094     , 1.096     , 1.105     , 1.11      , 1.111     , 1.118     , 1.121     , 1.129     , 1.134     , 1.139     , 1.146     , 1.148     , 1.153     , 1.159     , 1.164     , 1.169     ])\n",
        "\n"
      ],
      "execution_count": null,
      "outputs": []
    },
    {
      "cell_type": "markdown",
      "metadata": {
        "id": "DcM0J7cXdWnG"
      },
      "source": [
        "Func getValueFromH from descrete h(t) function by given argument"
      ]
    },
    {
      "cell_type": "code",
      "metadata": {
        "id": "WhYeqqEadiaV"
      },
      "source": [
        "def getValueFromH(arg):\n",
        "  index = getIndexOfElementInArray(arg, DESCRETE_args_h_t_func)\n",
        "  return DESCRETE_values_h_t_func[index]"
      ],
      "execution_count": null,
      "outputs": []
    },
    {
      "cell_type": "code",
      "metadata": {
        "colab": {
          "base_uri": "https://localhost:8080/"
        },
        "id": "CExLP1NBCEHS",
        "outputId": "41be4137-7157-413b-9c1c-f8db388be03f"
      },
      "source": [
        "print(getValueFromH(0.02))"
      ],
      "execution_count": null,
      "outputs": [
        {
          "output_type": "stream",
          "text": [
            "0.095\n"
          ],
          "name": "stdout"
        }
      ]
    },
    {
      "cell_type": "markdown",
      "metadata": {
        "id": "r6RlXHphm4FE"
      },
      "source": [
        "# 1.4)Experimental block for calculating matrix using 3rd method"
      ]
    },
    {
      "cell_type": "code",
      "metadata": {
        "id": "XZ-yKBLhnABm"
      },
      "source": [
        "# num_of_iterations = 2\n",
        "\n",
        "# def integral_on_simple_segment_test(c,d,h, f, x_i,t_j, i ,j,   fi_0,fi_1,fi_2,fi_3=0,fi_4=0):\n",
        "#   middle_point = (c+d)/2\n",
        "#   return h* ( func_a_t.compute(middle_point) * calculateFi(f[i][j], fi_0,fi_1,fi_2,fi_3=0,fi_4=0)  )\n",
        "  \n",
        "# def Is_need_to_next_index_step(left,right,cur) :\n",
        "#   d1 = abs(left - cur)\n",
        "#   d2 = abs(right - cur)\n",
        "#   if (d1 < d2):\n",
        "#     return 0\n",
        "#   else:\n",
        "#     return 1\n",
        "\n",
        "# def integral_A_to_B_test(a,b,f, x_i, t_j,     fi_0,fi_1,fi_2,fi_3=0,fi_4=0):\n",
        "#   #for x\n",
        "#   j_start = int(round((a + x_i - t_j - x_0)/h_x_axys, 0) )\n",
        "#   j_finish = int(round((b + x_i - t_j - x_0)/h_x_axys, 0))\n",
        "#   #for t\n",
        "#   i_start = int(round((a - t_0)/h_t_axys, 0))\n",
        "#   i_finish = int(round((b - t_0)/h_t_axys , 0))\n",
        "\n",
        "#   #NEW BLOCK FOR MORE ACCURACY\n",
        "#   flag = Is_need_to_next_index_step(f[i_start][j_start],f[i_start][j_start+1],x_i)\n",
        "#   j_start = j_start + 1* flag\n",
        "#   j_finish = j_finish + 1*flag\n",
        "\n",
        "#   #define num of steps for calculating integral on segment\n",
        "#   num_of_steps = j_finish - j_start\n",
        "#   #difference in h_x and h_t step\n",
        "#   diff = int(round(h_x_axys/h_t_axys,0))\n",
        "#   ret_value = 0.0\n",
        "#   for j in range(num_of_steps):\n",
        "#     ret_value+=integral_on_simple_segment_test(a+j*h_x_axys, a+(j+1)*h_x_axys, h_x_axys, f, x_i, t_j, j_start+j, i_start+j*diff,      fi_0,fi_1,fi_2,fi_3=0,fi_4=0)   \n",
        "#   return ret_value\n",
        "\n",
        "# def compute_matrix_method_1(matrix,  fi_0,fi_1,fi_2,fi_3=0,fi_4=0):\n",
        "#   matrix_prev = np.ones((N_x + 1,N_t + 1))\n",
        "#   # First row filled with alpha(x_j)\n",
        "#   for j in range(0, N_x+1):\n",
        "#     matrix_prev[0][j] = func_beta_x.compute(x_0 + h_x_axys*j)\n",
        "\n",
        "#   # First colomn filled with kci(t_i)\n",
        "#   for i in range(0, N_t+1):\n",
        "#     matrix_prev[i][0] = func_kci_t.compute(t_0 + h_t_axys*i)\n",
        "  \n",
        "#   matrix_cur = deepcopy(matrix_prev)\n",
        "\n",
        "#   #calculating U_(n+1) = f(U_n)\n",
        "#   for steps in range(num_of_iterations):\n",
        "#     for i in range(1,(N_t) + 1):  # t defines rows\n",
        "#       for j in range(1, (N_x) + 1): # x defines colomns\n",
        "#         # print(str(i) +\"+\" +str(j))\n",
        "#         #x_i\n",
        "#         x_i=x_0+h_x_axys*j\n",
        "      \n",
        "#         #t_j \n",
        "#         t_j = t_0 + h_t_axys*i\n",
        "\n",
        "#         if (t_j <= x_i):\n",
        "#           matrix_cur[i][j] =round( func_beta_x.compute(x_i - t_j) - integral_A_to_B_test(0, t_j, matrix_prev, x_i, t_j,     fi_0,fi_1,fi_2,fi_3=0,fi_4=0) , 3)\n",
        "#         else:\n",
        "#           matrix_cur[i][j] =round( func_kci_t.compute(t_j - x_i) - integral_A_to_B_test(t_j - x_i, t_j,matrix_prev, x_i, t_j,     fi_0,fi_1,fi_2,fi_3=0,fi_4=0) , 3)\n",
        "          \n",
        "#         matrix_prev=deepcopy(matrix_cur)\n",
        "\n",
        "#   return matrix_cur\n",
        "\n"
      ],
      "execution_count": null,
      "outputs": []
    },
    {
      "cell_type": "code",
      "metadata": {
        "id": "YSQUzLy0pqPJ"
      },
      "source": [
        "# print(compute_matrix_method_1(np.zeros(4),1,1,1))"
      ],
      "execution_count": null,
      "outputs": []
    },
    {
      "cell_type": "markdown",
      "metadata": {
        "id": "lYSpl4IRMAT_"
      },
      "source": [
        "# 1.5) Method 1 for solving straight problem"
      ]
    },
    {
      "cell_type": "markdown",
      "metadata": {
        "id": "YgBzUiSOMIMZ"
      },
      "source": [
        "matrix_method_1 = np.zeros((N_x + 1,N_t + 1))"
      ]
    },
    {
      "cell_type": "code",
      "metadata": {
        "id": "_ElEX8JFMO_v"
      },
      "source": [
        "matrix_method_1 = np.zeros((N_x + 1,N_t + 1))"
      ],
      "execution_count": null,
      "outputs": []
    },
    {
      "cell_type": "markdown",
      "metadata": {
        "id": "rMRYMUbsMUaH"
      },
      "source": [
        "*Define function for matrix computing*"
      ]
    },
    {
      "cell_type": "code",
      "metadata": {
        "id": "IHjdkgQaMRzp"
      },
      "source": [
        "def calculate_node(i, j, h_x, h_t, x_i, t_j, matrix,    fi_0,fi_1,fi_2,fi_3,fi_4):\n",
        "  point_answer = (h_t * ( ( 1/h_x )*matrix[i][j-1] - (1/h_x - 1/h_t)*matrix[i][j] - func_a_t.compute(t_j)* calculateFi(matrix[i][j],fi_0,fi_1,fi_2,fi_3,fi_4)  ) )\n",
        "  if (np.isnan(point_answer) ):\n",
        "    raise TypeError('Nan in matrix')\n",
        "  return point_answer\n"
      ],
      "execution_count": null,
      "outputs": []
    },
    {
      "cell_type": "markdown",
      "metadata": {
        "id": "kMUaGHhuMfgc"
      },
      "source": [
        "Compute whole matrix"
      ]
    },
    {
      "cell_type": "code",
      "metadata": {
        "id": "5_zFuNUhMhYq"
      },
      "source": [
        "def compute_matrix_method_1(matrix,  fi_0,fi_1,fi_2,fi_3=0,fi_4=0):\n",
        "  # First row filled with alpha(x_j)\n",
        "  for j in range(0, N_x+1):\n",
        "    matrix[0][j] = func_beta_x.compute(x_0 + h_x_axys*j) \n",
        "\n",
        "  # First colomn filled with kci(t_i)\n",
        "  for i in range(0, N_t+1):\n",
        "    matrix[i][0] = func_kci_t.compute(t_0 + h_t_axys*i)\n",
        "  \n",
        "  for i in range(0, (N_t - 1) + 1):   # t defines rows\n",
        "    for j in range(1, (N_x) + 1):     # x defines colomns\n",
        "      matrix[i+1][j] = round( calculate_node(i,j, h_x_axys, h_t_axys, x_0+h_x_axys*j, t_0 + h_t_axys*i, matrix,    fi_0,fi_1,fi_2,fi_3,fi_4) ,3) # round 3 digits after comma\n",
        "  \n",
        "\n",
        "  return matrix"
      ],
      "execution_count": null,
      "outputs": []
    },
    {
      "cell_type": "markdown",
      "metadata": {
        "id": "mNsFIovtN1zG"
      },
      "source": [
        "Get current h(t) = U(L,t) with method 'compute_matrix_method_1'"
      ]
    },
    {
      "cell_type": "code",
      "metadata": {
        "id": "qr5Js3X6N96h"
      },
      "source": [
        "def get_h_t_method_1(matrix,   fi_0,fi_1,fi_2,fi_3=0,fi_4=0):\n",
        "  h_t_func_method_1 = np.zeros(N_t + 1)\n",
        "  for i in range(len(h_t_func_method_1)):\n",
        "    h_t_func_method_1[i] = matrix[i][N_x]\n",
        "  \n",
        "  return h_t_func_method_1"
      ],
      "execution_count": null,
      "outputs": []
    },
    {
      "cell_type": "markdown",
      "metadata": {
        "id": "MnJ3o7GoTvKX"
      },
      "source": [
        "Calculate h(t) in point"
      ]
    },
    {
      "cell_type": "markdown",
      "metadata": {
        "id": "ie11VpPjUKCA"
      },
      "source": [
        "Func getValueFromHMethod1 from descrete h(t) function by given argument"
      ]
    },
    {
      "cell_type": "code",
      "metadata": {
        "id": "Axj6a2diUIk2"
      },
      "source": [
        "# t_arg_method_1 = np.arange(0,T+h_t_axys,h_t_axys)\n",
        "def getValueFromH_method_1(arg,h_t_method_1_array):\n",
        "  index = getIndexOfElementInArray(arg, DESCRETE_args_h_t_func)\n",
        "  return h_t_method_1_array[index]"
      ],
      "execution_count": null,
      "outputs": []
    },
    {
      "cell_type": "code",
      "metadata": {
        "id": "MtzugTZOTzbP"
      },
      "source": [
        "def calculate_h_t_method_1_in_point(middle_point, h_t_method_1_array):\n",
        "  return getValueFromH_method_1(middle_point,h_t_method_1_array)"
      ],
      "execution_count": null,
      "outputs": []
    },
    {
      "cell_type": "markdown",
      "metadata": {
        "id": "w5JnAMtpCdCc"
      },
      "source": [
        "# **2) Function that computes U under intgral in functional formula**"
      ]
    },
    {
      "cell_type": "markdown",
      "metadata": {
        "id": "tus1Z8r_EESf"
      },
      "source": [
        "Computing Integral"
      ]
    },
    {
      "cell_type": "code",
      "metadata": {
        "id": "T657WjxpEJS8"
      },
      "source": [
        "# def integral_on_simple_segment(c,d,h , fi_0,fi_1,fi_2):\n",
        "#   middle_point = (c+d)/2\n",
        "#   return h* ( func_a_t.compute(middle_point) * calculateFi(middle_point,fi_0, fi_1,fi_2) )"
      ],
      "execution_count": null,
      "outputs": []
    },
    {
      "cell_type": "code",
      "metadata": {
        "id": "3iUcKGsPEu-S"
      },
      "source": [
        "# def integral_A_to_B(start, end , fi_0,fi_1,fi_2):\n",
        "#   ret_value = 0.0\n",
        "#   num_of_steps = 20\n",
        "#   step = (end - start) / num_of_steps\n",
        "#   for j in range(num_of_steps):\n",
        "#     ret_value += integral_on_simple_segment(start + j*step, start + (j+1)*step , step, fi_0,fi_1,fi_2)\n",
        "  \n",
        "#   return ret_value"
      ],
      "execution_count": null,
      "outputs": []
    },
    {
      "cell_type": "code",
      "metadata": {
        "id": "4jQzksPNP72_"
      },
      "source": [
        "# print(integral_A_to_B(0,1,1,2,3))"
      ],
      "execution_count": null,
      "outputs": []
    },
    {
      "cell_type": "markdown",
      "metadata": {
        "id": "wQ5EylFoC2w7"
      },
      "source": [
        "calculate u : def calculateUFormula()"
      ]
    },
    {
      "cell_type": "code",
      "metadata": {
        "id": "I_WWeXidC2Dp"
      },
      "source": [
        "# def calculateUFormula(temp_t, fi_0,fi_1,fi_2):\n",
        "#   integral = integral_A_to_B(0,temp_t, fi_0,fi_1,fi_2)\n",
        "#   cur_beta = func_beta_x.compute(L - temp_t)\n",
        "#   return (cur_beta - integral)"
      ],
      "execution_count": null,
      "outputs": []
    },
    {
      "cell_type": "markdown",
      "metadata": {
        "id": "Iq63tSCSILKF"
      },
      "source": [
        "# 3) Calculating functional W "
      ]
    },
    {
      "cell_type": "markdown",
      "metadata": {
        "id": "C1VM4Fx2It1-"
      },
      "source": [
        "Calculating integral for functional"
      ]
    },
    {
      "cell_type": "code",
      "metadata": {
        "id": "0QBXbuFVIm5n"
      },
      "source": [
        "def functional_integral_on_simple_segment(c,d,h,  h_t_method_1_array  ,   fi_0,fi_1,fi_2,fi_3,fi_4):\n",
        "  middle_point = (c+d)/2\n",
        "  # func_value = ( getValueFromH(middle_point) - calculateUFormula(middle_point, fi_0,fi_1,fi_2) )\n",
        "  func_value = ( getValueFromH(middle_point) - calculate_h_t_method_1_in_point(middle_point, h_t_method_1_array) )\n",
        "  ret_value = h * func_value * func_value \n",
        "  return ret_value"
      ],
      "execution_count": null,
      "outputs": []
    },
    {
      "cell_type": "code",
      "metadata": {
        "id": "m6YPKDsoJXdX"
      },
      "source": [
        "def functional_integral_A_to_B(start,end,  h_t_method_1_array   , fi_0,fi_1,fi_2,fi_3,fi_4):\n",
        "  ret_value = 0.0\n",
        "  num_of_steps = 10\n",
        "  step = (end - start) / num_of_steps\n",
        "  for j in range(num_of_steps):\n",
        "    ret_value += functional_integral_on_simple_segment(start + j*step, start + (j+1)*step , step,  h_t_method_1_array  ,fi_0,fi_1,fi_2,fi_3,fi_4)\n",
        "  \n",
        "  return ret_value"
      ],
      "execution_count": null,
      "outputs": []
    },
    {
      "cell_type": "markdown",
      "metadata": {
        "id": "XyZ8ite4IQTm"
      },
      "source": [
        "def calcululate_W(T):"
      ]
    },
    {
      "cell_type": "code",
      "metadata": {
        "id": "ElFa1IHxIYYB"
      },
      "source": [
        "def calculate_W(T,  h_t_method_1_array   ,fi_0,fi_1,fi_2,fi_3=0,fi_4=0):\n",
        "  return (functional_integral_A_to_B(0,T,   h_t_method_1_array   , fi_0,fi_1,fi_2,fi_3,fi_4))"
      ],
      "execution_count": null,
      "outputs": []
    },
    {
      "cell_type": "markdown",
      "metadata": {
        "id": "hp9zESdBKrQy"
      },
      "source": [
        "# 4) Algorithm for functional minimization"
      ]
    },
    {
      "cell_type": "markdown",
      "metadata": {
        "id": "Z_E1yeZiLKUl"
      },
      "source": [
        "grid for every koef will be from -1 to 2 with num_of_steps = 30"
      ]
    },
    {
      "cell_type": "code",
      "metadata": {
        "id": "QPhQkUQbY9Wf"
      },
      "source": [
        "def gen_array(start,end,step):\n",
        "  length = int( round ((end - start) / step , 0)) + 1\n",
        "  print(length)\n",
        "  ret_array = np.zeros(length)\n",
        "  for i in range(length ):\n",
        "    ret_array[i] = -1 + step * i\n",
        "  \n",
        "  return ret_array"
      ],
      "execution_count": null,
      "outputs": []
    },
    {
      "cell_type": "code",
      "metadata": {
        "colab": {
          "base_uri": "https://localhost:8080/"
        },
        "id": "C6b8cTmQa-HU",
        "outputId": "0e1b020c-c54d-441f-b6dd-d7da0679135a"
      },
      "source": [
        "print(gen_array(-1,2,0.5))"
      ],
      "execution_count": null,
      "outputs": [
        {
          "output_type": "stream",
          "text": [
            "7\n",
            "[-1.  -0.5  0.   0.5  1.   1.5  2. ]\n"
          ],
          "name": "stdout"
        }
      ]
    },
    {
      "cell_type": "code",
      "metadata": {
        "colab": {
          "base_uri": "https://localhost:8080/"
        },
        "id": "-hmPV7R2LGZ4",
        "outputId": "2df0f903-79b1-44f5-cf72-1a842401589c"
      },
      "source": [
        "min = 9223372036854775807\n",
        "fi_save_0 = 10\n",
        "fi_save_1 = 10\n",
        "fi_save_2 = 10\n",
        "fi_save_3 = 10\n",
        "fi_save_4 = 10\n",
        "\n",
        "arange = gen_array(-1,2,0.5)\n",
        "\n",
        "#===========\n",
        "# fi_0 = -1\n",
        "# fi_1 = -1\n",
        "# fi_2 = -1\n",
        "# matrix = np.zeros((N_x + 1,N_t + 1))\n",
        "# try:\n",
        "#   matrix = compute_matrix_method_1(matrix,    fi_0,fi_1,fi_2)\n",
        "# except TypeError:\n",
        "#   continue\n",
        "# printArray(matrix)\n",
        "\n",
        "#===========\n",
        "\n",
        "# for fi_0 in arange:\n",
        "#   for fi_1 in arange:\n",
        "#     for fi_2 in arange:\n",
        "#       for fi_3 in arange:\n",
        "#         for fi_4 in arange:\n",
        "#           matrix = np.zeros((N_x + 1,N_t + 1))\n",
        "#           try:\n",
        "#             matrix = compute_matrix_method_1(matrix,    fi_0,fi_1,fi_2,fi_3,fi_4)\n",
        "#           except TypeError:\n",
        "#             continue\n",
        "#           print(str(fi_0) + ':' + str(fi_1) + ':' + str(fi_2) + ':' + str(fi_3) + ':' + str(fi_4))\n",
        "#           h_t_method_1_array = get_h_t_method_1(matrix,  fi_0,fi_1,fi_2,fi_3,fi_4)\n",
        "          \n",
        "#           cur_W = calculate_W(T,  h_t_method_1_array   ,  fi_0,fi_1,fi_2,fi_3,fi_4)\n",
        "#           if ( cur_W < min):\n",
        "#             min = cur_W\n",
        "#             fi_save_0 = fi_0\n",
        "#             fi_save_1 = fi_1\n",
        "#             fi_save_2 = fi_2\n",
        "#             fi_save_3 = fi_3\n",
        "#             fi_save_4 = fi_4\n",
        "\n",
        "# print('=====Answer===')\n",
        "# print(fi_save_0)\n",
        "# print(fi_save_1)\n",
        "# print(fi_save_2)\n",
        "# print(fi_save_3)\n",
        "# print(fi_save_4)"
      ],
      "execution_count": null,
      "outputs": [
        {
          "output_type": "stream",
          "text": [
            "7\n"
          ],
          "name": "stdout"
        }
      ]
    },
    {
      "cell_type": "code",
      "metadata": {
        "id": "BEGYql2OaCUl"
      },
      "source": [
        "# print(np.arange(-1, 2, 0.1))\n",
        "# print(arange)"
      ],
      "execution_count": null,
      "outputs": []
    },
    {
      "cell_type": "code",
      "metadata": {
        "id": "J4Wqk1vKYCia"
      },
      "source": [
        "# print(calculate_W(T,1,1,0))\n",
        "# print(calculate_W(T,1,1,1))\n",
        "# print(calculate_W(T,1.0,0.7,-0.9))"
      ],
      "execution_count": null,
      "outputs": []
    },
    {
      "cell_type": "code",
      "metadata": {
        "id": "qTCM7nlOUovE"
      },
      "source": [
        "def build_s_values_array(args):\n",
        "  ret_array = np.zeros(len(args))\n",
        "  for i in range(len(args)):\n",
        "    ret_array[i] = fi_save_0 + fi_save_1 * args[i] + fi_save_2 * (args[i] ** 2) + fi_save_3 * (args[i] ** 3) + fi_save_4 * (args[i] ** 4)\n",
        "  \n",
        "  return ret_array"
      ],
      "execution_count": null,
      "outputs": []
    },
    {
      "cell_type": "code",
      "metadata": {
        "id": "vnbR-qYoVru9"
      },
      "source": [
        "def build_s_original_values_array(args):\n",
        "  ret_array = np.zeros(len(args))\n",
        "  for i in range(len(args)):\n",
        "    if (controller == 1):\n",
        "      ret_array[i] =  args[i]\n",
        "    elif (controller == 2):\n",
        "      ret_array[i] = args[i]/2\n",
        "    elif (controller == 3):\n",
        "      ret_array[i] = (1/2) * (2 ** args[i])\n",
        "  \n",
        "  return ret_array"
      ],
      "execution_count": null,
      "outputs": []
    },
    {
      "cell_type": "code",
      "metadata": {
        "colab": {
          "base_uri": "https://localhost:8080/",
          "height": 616
        },
        "id": "20urPu2_T4-D",
        "outputId": "01273d4c-40cb-4f91-d19c-2c88801de620"
      },
      "source": [
        "#graph results\n",
        "\n",
        "\n",
        "my_fig_size = 10\n",
        "fig = plt.figure(figsize=(my_fig_size+5,my_fig_size))\n",
        "\n",
        "ax=fig.add_subplot(111)\n",
        "\n",
        "#set title\n",
        "ax.set_title(' Graph for fi(S) ')\n",
        "\n",
        "# Set common labels\n",
        "fig.text(0.9, 0.1, 's', ha='center', va='center',fontsize=16)\n",
        "fig.text(0.106, 0.88, 'fi(s)', ha='center', va='center',fontsize=16)\n",
        "\n",
        "s_args = np.arange(0,1,0.01)\n",
        "s_value = build_s_values_array(s_args)\n",
        "\n",
        "s_original_value = build_s_original_values_array(s_args)\n",
        "\n",
        "plt.plot(s_args,s_value, marker=\"o\",color = \"r\")\n",
        "plt.plot(s_args,s_original_value, marker=\".\",color = \"k\")\n",
        "plt.grid()\n",
        "\n",
        "\n",
        "\n",
        "# ax.spines['left'].set_position('zero')\n",
        "ax.spines['right'].set_color('none')\n",
        "# ax.spines['bottom'].set_position('zero')\n",
        "ax.spines['top'].set_color('none')\n",
        "\n",
        "# remove the ticks from the top and right edges\n",
        "ax.xaxis.set_ticks_position('bottom')\n",
        "ax.yaxis.set_ticks_position('left')"
      ],
      "execution_count": null,
      "outputs": [
        {
          "output_type": "display_data",
          "data": {
            "image/png": "[encoded data removed]",
            "text/plain": [
              "<Figure size 1080x720 with 1 Axes>"
            ]
          },
          "metadata": {
            "tags": [],
            "needs_background": "light"
          }
        }
      ]
    },
    {
      "cell_type": "markdown",
      "metadata": {
        "id": "HhwNPmGs5UqS"
      },
      "source": [
        "# GRADIENT METHODS\n"
      ]
    },
    {
      "cell_type": "markdown",
      "metadata": {
        "id": "QYZsGhHV5crR"
      },
      "source": [
        "1) Calculate derivate W'(point)"
      ]
    },
    {
      "cell_type": "code",
      "metadata": {
        "id": "Q5bcLf49MPmq"
      },
      "source": [
        "#returns np.array(size = num_of_vars)\n",
        "def getFunctionalDerivate(h_t_method_1_array,x0,x1,x2):\n",
        "  num_of_vars = 3\n",
        "  step = 0.25\n",
        "  ret_array = np.zeros(num_of_vars)\n",
        "\n",
        "  # print(\"++++++BEGIN++++++\")\n",
        "  \n",
        "\n",
        "  ordinary_W =  calculate_W(T,h_t_method_1_array,x0,x1,x2)\n",
        "  # print(ordinary_W)\n",
        "\n",
        "  matrix = np.zeros((N_x + 1,N_t + 1))\n",
        "  matrix = compute_matrix_method_1(matrix,    x0+step,x1,x2)\n",
        "  h_t_method_1_new = get_h_t_method_1(matrix,  x0+step,x1,x2)\n",
        "\n",
        "  ret_array[0] = (calculate_W(T,h_t_method_1_new,x0 + step,x1,x2) - ordinary_W ) / step\n",
        "  # print(calculate_W(T,h_t_method_1_new,x0 + step,x1,x2))\n",
        "\n",
        "\n",
        "  matrix = np.zeros((N_x + 1,N_t + 1))\n",
        "  matrix = compute_matrix_method_1(matrix,    x0,x1+step,x2)\n",
        "  h_t_method_1_new = get_h_t_method_1(matrix,  x0,x1+step,x2)\n",
        "  ret_array[1] = (calculate_W(T,h_t_method_1_new,x0 ,x1 + step,x2) - ordinary_W) / step\n",
        "  # print(calculate_W(T,h_t_method_1_new,x0 ,x1 + step,x2))\n",
        "\n",
        "\n",
        "  matrix = np.zeros((N_x + 1,N_t + 1))\n",
        "  matrix = compute_matrix_method_1(matrix,    x0,x1,x2+step)\n",
        "  h_t_method_1_new = get_h_t_method_1(matrix,  x0,x1,x2+step)\n",
        "  ret_array[2] = (calculate_W(T,h_t_method_1_new,x0 ,x1,x2 + step) - ordinary_W) / step\n",
        "  # print(calculate_W(T,h_t_method_1_new,x0 ,x1,x2 + step))\n",
        "  \n",
        "  # print(\"======END========\")\n",
        "\n",
        "  return ret_array"
      ],
      "execution_count": null,
      "outputs": []
    },
    {
      "cell_type": "markdown",
      "metadata": {
        "id": "dAdaJT_c8PW0"
      },
      "source": [
        "2) Get x^next array"
      ]
    },
    {
      "cell_type": "code",
      "metadata": {
        "id": "Si6Cw1428UdO"
      },
      "source": [
        "#returns np.array(size = num_of_vars)\n",
        "def getX_NextArray(alpha, x_prev, f_derivate_array):\n",
        "\n",
        "  # print(\"f_derivate_array = \"+str(f_derivate_array))\n",
        "  \n",
        "  num_of_vars = len(f_derivate_array)\n",
        "\n",
        "  if (len(x_prev) != num_of_vars):\n",
        "    raise ValueError(\"x_prev must have same size as f_derivate_array\")\n",
        "  \n",
        "  ret_array = np.zeros(num_of_vars)\n",
        "  for i in range(num_of_vars):\n",
        "    ret_array[i] = x_prev[i] - alpha * f_derivate_array[i]\n",
        "  \n",
        "  return ret_array\n"
      ],
      "execution_count": null,
      "outputs": []
    },
    {
      "cell_type": "code",
      "metadata": {
        "colab": {
          "base_uri": "https://localhost:8080/"
        },
        "id": "5cy4MKUWJmaj",
        "outputId": "1e47ec5d-da4a-44d4-ddb7-36b6e0d1bfc9"
      },
      "source": [
        "print(np.arange(0,15+0.5,0.5))"
      ],
      "execution_count": null,
      "outputs": [
        {
          "output_type": "stream",
          "text": [
            "[ 0.   0.5  1.   1.5  2.   2.5  3.   3.5  4.   4.5  5.   5.5  6.   6.5  7.   7.5  8.   8.5  9.   9.5 10.  10.5 11.  11.5 12.  12.5 13.  13.5 14.  14.5 15. ]\n"
          ],
          "name": "stdout"
        }
      ]
    },
    {
      "cell_type": "markdown",
      "metadata": {
        "id": "C_5Tj9aIAG8H"
      },
      "source": [
        "3) Calculate alpha"
      ]
    },
    {
      "cell_type": "code",
      "metadata": {
        "id": "ccthfxfK-u4m"
      },
      "source": [
        "def calculateAlpha(x_prev, h_t_method_1_array):\n",
        "\n",
        "  retAlpha = 0\n",
        "\n",
        "  if (len(x_prev)!=3):\n",
        "    raise ValueError(\"x_next supposed to have length = 3 in these fragment\")\n",
        "  \n",
        "  x_0=x_prev[0]\n",
        "  x_1=x_prev[1]\n",
        "  x_2=x_prev[2]\n",
        "\n",
        "  alpha_possible_values = np.arange(0.05,1.5,0.15)\n",
        "\n",
        "\n",
        "  minValue = 9223372036854775\n",
        "\n",
        "  for possibleAlpha in alpha_possible_values: \n",
        "    x_next = getX_NextArray(possibleAlpha,x_prev,getFunctionalDerivate(h_t_method_1_array,x_0,x_1,x_2))\n",
        "    # print(\"x_next in calculateAlpha = \" + str (x_next))\n",
        "    x_0_new=x_next[0]\n",
        "    x_1_new=x_next[1]\n",
        "    x_2_new=x_next[2]\n",
        "    curFunctional = calculate_W(T,h_t_method_1_array,x_0_new,x_1_new,x_2_new)\n",
        "    # print(\"curFunctional = \" + str( curFunctional))\n",
        "    if ( curFunctional < minValue):\n",
        "      print(\"possible alpha = \" + str(possibleAlpha))\n",
        "      minValue = curFunctional\n",
        "      retAlpha = possibleAlpha\n",
        "    \n",
        "  return retAlpha"
      ],
      "execution_count": null,
      "outputs": []
    },
    {
      "cell_type": "markdown",
      "metadata": {
        "id": "5uLqj5MaEX1F"
      },
      "source": [
        "4) Calculating norma"
      ]
    },
    {
      "cell_type": "code",
      "metadata": {
        "id": "W6hrS-ClEaXn"
      },
      "source": [
        "def calculateNorma(x_next, h_t_method_1_array):\n",
        "  x0=x_next[0]\n",
        "  x1=x_next[1]\n",
        "  x2=x_next[2]\n",
        "  derivates = getFunctionalDerivate(h_t_method_1_array,x0,x1,x2)\n",
        "  ans = 0\n",
        "  for derivate in derivates:\n",
        "    ans+= (derivate ** 2)\n",
        "  ans = math.sqrt(ans)\n",
        "\n",
        "  return ans"
      ],
      "execution_count": null,
      "outputs": []
    },
    {
      "cell_type": "markdown",
      "metadata": {
        "id": "q7P-MTy4AGK1"
      },
      "source": [
        "5) Iterating"
      ]
    },
    {
      "cell_type": "code",
      "metadata": {
        "colab": {
          "base_uri": "https://localhost:8080/"
        },
        "id": "lx9RqcImDCl6",
        "outputId": "72b40bb3-c06b-4a86-b4d3-ee5f1e475fb5"
      },
      "source": [
        "x_prev = np.array([0,0,0])\n",
        "eps = 0.05\n",
        "cntIterations = 0\n",
        "\n",
        "while True:\n",
        "  cntIterations+=1\n",
        "\n",
        "  fi_0 = x_prev[0]\n",
        "  fi_1 = x_prev[1]\n",
        "  fi_2 = x_prev[2]\n",
        "  matrix = np.zeros((N_x + 1,N_t + 1))\n",
        "  matrix = compute_matrix_method_1(matrix,    fi_0,fi_1,fi_2)\n",
        "  h_t_method_1_array = get_h_t_method_1(matrix,  fi_0,fi_1,fi_2)\n",
        "  print(\"h_t_method_1_array = \" + repr(h_t_method_1_array))\n",
        "  alpha_1 = calculateAlpha(x_prev,h_t_method_1_array)\n",
        "  print(\"alpha_1 = \" + str (alpha_1) )\n",
        "  x_next = getX_NextArray(alpha_1,x_prev,getFunctionalDerivate(h_t_method_1_array,fi_0,fi_1,fi_2))\n",
        "  print(\"x_next = \" + str (x_next))\n",
        "\n",
        "  norma = calculateNorma(x_next,h_t_method_1_array)\n",
        "  print(\"iteration: \" + str (cntIterations))\n",
        "  print(\"norma = \" + str (norma))\n",
        "  if ( norma < eps):\n",
        "    break\n",
        "  \n",
        "  x_prev = x_next\n",
        "  \n",
        "print(\"Answer\")\n",
        "print(x_next)\n"
      ],
      "execution_count": null,
      "outputs": [
        {
          "output_type": "stream",
          "text": [
            "h_t_method_1_array = array([0.01745241, 0.057     , 0.097     , 0.137     , 0.177     , 0.217     , 0.256     , 0.296     , 0.336     , 0.376     , 0.416     , 0.456     , 0.495     , 0.535     , 0.575     , 0.615     , 0.655     , 0.694     , 0.734     , 0.774     , 0.814     , 0.854     , 0.894     , 0.933     , 0.973     , 1.013     , 1.053     , 1.093     , 1.133     , 1.172     , 1.212     , 1.252     , 1.292     , 1.332     , 1.372     , 1.411     , 1.451     , 1.491     , 1.531     , 1.571     , 1.61      , 1.65      , 1.69      , 1.73      , 1.77      , 1.81      , 1.849     , 1.889     , 1.929     , 1.969     , 2.009     , 2.049     , 2.088     , 2.128     , 2.168     , 2.208     , 2.248     , 2.288     , 2.327     , 2.367     , 2.407     , 2.447     , 2.487     , 2.526     , 2.566     , 2.606     , 2.646     , 2.686     , 2.726     , 2.765     , 2.805     , 2.845     , 2.885     , 2.925     , 2.965     , 3.004     , 3.044     , 3.084     , 3.124     , 3.164     , 3.203     , 3.243     , 3.283     , 3.323     , 3.363     , 3.403     , 3.442     , 3.482     , 3.522     , 3.562     , 3.602     , 3.642     , 3.681     , 3.721     , 3.761     , 3.801     , 3.841     , 3.881     , 3.92      , 3.96      , 4.        ])\n",
            "possible alpha = 0.05\n",
            "alpha_1 = 0.05\n",
            "x_next = [0.26862284 0.4737538  0.52962666]\n",
            "iteration: 1\n",
            "norma = 14.262430996611274\n",
            "h_t_method_1_array = array([ 0.01745241,  0.049     ,  0.079     ,  0.109     ,  0.136     ,  0.163     ,  0.188     ,  0.21      ,  0.234     ,  0.253     ,  0.273     ,  0.29      ,  0.306     ,  0.32      ,  0.332     ,  0.344     ,  0.353     ,  0.362     ,  0.369     ,  0.374     ,  0.378     ,  0.383     ,  0.382     ,  0.388     ,  0.384     ,  0.385     ,  0.381     ,  0.38      ,  0.376     ,  0.372     ,  0.372     ,  0.363     ,  0.362     ,  0.352     ,  0.347     ,  0.336     ,  0.335     ,  0.323     ,  0.319     ,  0.31      ,  0.298     ,  0.296     ,  0.278     ,  0.274     ,  0.268     ,  0.252     ,  0.251     ,  0.234     ,  0.231     ,  0.218     ,  0.21      ,  0.199     ,  0.189     ,  0.185     ,  0.17      ,  0.166     ,  0.15      ,  0.143     ,  0.136     ,  0.121     ,  0.115     ,  0.107     ,  0.099     ,  0.085     ,  0.079     ,  0.07      ,  0.065     ,  0.043     ,  0.052     ,  0.027     ,  0.033     ,  0.014     ,  0.001     ,  0.009     , -0.015     , -0.012     , -0.025     , -0.039     , -0.038     , -0.056     , -0.053     , -0.068     , -0.075     , -0.079     , -0.098     , -0.085     , -0.122     , -0.101     , -0.126     , -0.132     , -0.135     , -0.138     , -0.166     , -0.141     , -0.187     , -0.155     , -0.194     , -0.181     , -0.199     , -0.195     , -0.223     ])\n",
            "possible alpha = 0.05\n",
            "alpha_1 = 0.05\n",
            "x_next = [0.18660626 0.45457502 0.51339446]\n",
            "iteration: 2\n",
            "norma = 0.9339568070709051\n",
            "h_t_method_1_array = array([ 0.01745241,  0.051     ,  0.085     ,  0.116     ,  0.146     ,  0.176     ,  0.202     ,  0.229     ,  0.253     ,  0.277     ,  0.298     ,  0.317     ,  0.335     ,  0.352     ,  0.367     ,  0.378     ,  0.392     ,  0.402     ,  0.412     ,  0.419     ,  0.426     ,  0.429     ,  0.433     ,  0.437     ,  0.439     ,  0.439     ,  0.439     ,  0.439     ,  0.438     ,  0.432     ,  0.43      ,  0.428     ,  0.421     ,  0.421     ,  0.413     ,  0.406     ,  0.401     ,  0.397     ,  0.39      ,  0.376     ,  0.378     ,  0.365     ,  0.359     ,  0.351     ,  0.34      ,  0.337     ,  0.324     ,  0.319     ,  0.309     ,  0.302     ,  0.294     ,  0.282     ,  0.276     ,  0.266     ,  0.261     ,  0.248     ,  0.246     ,  0.223     ,  0.237     ,  0.199     ,  0.218     ,  0.194     ,  0.192     ,  0.18      ,  0.175     ,  0.169     ,  0.158     ,  0.146     ,  0.141     ,  0.143     ,  0.114     ,  0.132     ,  0.098     ,  0.114     ,  0.087     ,  0.096     ,  0.075     ,  0.074     ,  0.072     ,  0.053     ,  0.055     ,  0.046     ,  0.037     ,  0.034     ,  0.021     ,  0.024     ,  0.006     ,  0.007     ,  0.002     , -0.015     ,  0.        , -0.037     , -0.01      , -0.047     , -0.03      , -0.043     , -0.064     , -0.043     , -0.072     , -0.06      , -0.079     ])\n",
            "possible alpha = 0.05\n",
            "alpha_1 = 0.05\n",
            "x_next = [0.1199008  0.4341111  0.49804298]\n",
            "iteration: 3\n",
            "norma = 0.8577551945846555\n",
            "h_t_method_1_array = array([0.01745241, 0.053     , 0.089     , 0.122     , 0.154     , 0.186     , 0.214     , 0.243     , 0.27      , 0.295     , 0.318     , 0.339     , 0.36      , 0.377     , 0.395     , 0.409     , 0.424     , 0.436     , 0.447     , 0.458     , 0.464     , 0.472     , 0.477     , 0.479     , 0.485     , 0.486     , 0.486     , 0.49      , 0.489     , 0.483     , 0.485     , 0.482     , 0.479     , 0.473     , 0.474     , 0.466     , 0.46      , 0.459     , 0.446     , 0.446     , 0.434     , 0.43      , 0.424     , 0.419     , 0.408     , 0.403     , 0.396     , 0.387     , 0.38      , 0.371     , 0.366     , 0.353     , 0.349     , 0.34      , 0.332     , 0.331     , 0.307     , 0.318     , 0.289     , 0.302     , 0.281     , 0.277     , 0.273     , 0.26      , 0.257     , 0.243     , 0.238     , 0.235     , 0.226     , 0.212     , 0.217     , 0.198     , 0.204     , 0.174     , 0.199     , 0.168     , 0.168     , 0.17      , 0.143     , 0.165     , 0.126     , 0.155     , 0.117     , 0.135     , 0.105     , 0.125     , 0.1       , 0.103     , 0.094     , 0.098     , 0.063     , 0.104     , 0.052     , 0.076     , 0.063     , 0.053     , 0.063     , 0.022     , 0.074     , 0.005     , 0.055     ])\n",
            "possible alpha = 0.05\n",
            "alpha_1 = 0.05\n",
            "x_next = [0.06264336 0.41401254 0.48436388]\n",
            "iteration: 4\n",
            "norma = 0.7845195932440695\n",
            "h_t_method_1_array = array([0.01745241, 0.055     , 0.091     , 0.128     , 0.161     , 0.196     , 0.226     , 0.254     , 0.284     , 0.311     , 0.337     , 0.36      , 0.381     , 0.403     , 0.42      , 0.437     , 0.452     , 0.466     , 0.478     , 0.49      , 0.5       , 0.506     , 0.515     , 0.519     , 0.526     , 0.527     , 0.534     , 0.531     , 0.536     , 0.531     , 0.533     , 0.532     , 0.529     , 0.527     , 0.523     , 0.52      , 0.514     , 0.507     , 0.511     , 0.497     , 0.493     , 0.489     , 0.484     , 0.475     , 0.47      , 0.463     , 0.453     , 0.452     , 0.439     , 0.438     , 0.424     , 0.422     , 0.414     , 0.404     , 0.401     , 0.387     , 0.387     , 0.375     , 0.367     , 0.362     , 0.355     , 0.345     , 0.342     , 0.335     , 0.322     , 0.321     , 0.313     , 0.3       , 0.305     , 0.281     , 0.294     , 0.266     , 0.28      , 0.261     , 0.261     , 0.25      , 0.247     , 0.238     , 0.238     , 0.226     , 0.221     , 0.22      , 0.203     , 0.214     , 0.192     , 0.199     , 0.182     , 0.194     , 0.165     , 0.182     , 0.166     , 0.155     , 0.176     , 0.125     , 0.185     , 0.103     , 0.172     , 0.117     , 0.126     , 0.147     , 0.086     ])\n",
            "possible alpha = 0.05\n",
            "alpha_1 = 0.05\n",
            "x_next = [0.0136174  0.39562068 0.4720911 ]\n",
            "iteration: 5\n",
            "norma = 0.686430278807921\n",
            "h_t_method_1_array = array([0.01745241, 0.057     , 0.095     , 0.131     , 0.168     , 0.202     , 0.235     , 0.268     , 0.296     , 0.325     , 0.352     , 0.376     , 0.401     , 0.421     , 0.442     , 0.461     , 0.478     , 0.491     , 0.508     , 0.519     , 0.53      , 0.54      , 0.549     , 0.553     , 0.562     , 0.567     , 0.57      , 0.57      , 0.574     , 0.572     , 0.578     , 0.572     , 0.575     , 0.57      , 0.569     , 0.567     , 0.562     , 0.562     , 0.554     , 0.548     , 0.546     , 0.537     , 0.538     , 0.523     , 0.528     , 0.513     , 0.509     , 0.504     , 0.496     , 0.493     , 0.479     , 0.481     , 0.464     , 0.47      , 0.447     , 0.456     , 0.439     , 0.436     , 0.431     , 0.413     , 0.422     , 0.4       , 0.407     , 0.39      , 0.394     , 0.379     , 0.372     , 0.376     , 0.352     , 0.365     , 0.345     , 0.343     , 0.341     , 0.328     , 0.322     , 0.323     , 0.313     , 0.302     , 0.307     , 0.292     , 0.296     , 0.277     , 0.288     , 0.271     , 0.265     , 0.271     , 0.254     , 0.257     , 0.248     , 0.24      , 0.242     , 0.237     , 0.229     , 0.23      , 0.215     , 0.22      , 0.216     , 0.203     , 0.205     , 0.2       , 0.2       ])\n",
            "possible alpha = 0.05\n",
            "alpha_1 = 0.05\n",
            "x_next = [-0.02979502  0.37763544  0.45889556]\n",
            "iteration: 6\n",
            "norma = 0.675421082745986\n",
            "h_t_method_1_array = array([0.01745241, 0.058     , 0.097     , 0.137     , 0.173     , 0.208     , 0.244     , 0.275     , 0.308     , 0.339     , 0.365     , 0.392     , 0.417     , 0.441     , 0.463     , 0.482     , 0.5       , 0.517     , 0.534     , 0.546     , 0.56      , 0.57      , 0.58      , 0.587     , 0.593     , 0.601     , 0.606     , 0.61      , 0.611     , 0.613     , 0.617     , 0.615     , 0.613     , 0.615     , 0.613     , 0.611     , 0.609     , 0.603     , 0.603     , 0.595     , 0.593     , 0.59      , 0.585     , 0.572     , 0.577     , 0.563     , 0.561     , 0.556     , 0.546     , 0.549     , 0.529     , 0.533     , 0.528     , 0.512     , 0.515     , 0.501     , 0.499     , 0.493     , 0.479     , 0.481     , 0.471     , 0.462     , 0.462     , 0.446     , 0.451     , 0.436     , 0.438     , 0.422     , 0.424     , 0.415     , 0.409     , 0.4       , 0.405     , 0.385     , 0.392     , 0.371     , 0.383     , 0.363     , 0.368     , 0.354     , 0.359     , 0.344     , 0.345     , 0.344     , 0.317     , 0.348     , 0.308     , 0.334     , 0.3       , 0.322     , 0.295     , 0.303     , 0.298     , 0.29      , 0.294     , 0.275     , 0.293     , 0.256     , 0.295     , 0.249     , 0.277     ])\n",
            "possible alpha = 0.05\n",
            "alpha_1 = 0.05\n",
            "x_next = [-0.06782884  0.36003886  0.445977  ]\n",
            "iteration: 7\n",
            "norma = 0.6137085770439256\n",
            "h_t_method_1_array = array([0.01745241, 0.059     , 0.099     , 0.14      , 0.177     , 0.216     , 0.25      , 0.283     , 0.32      , 0.349     , 0.377     , 0.408     , 0.434     , 0.459     , 0.481     , 0.502     , 0.522     , 0.54      , 0.556     , 0.571     , 0.586     , 0.598     , 0.608     , 0.618     , 0.625     , 0.631     , 0.637     , 0.644     , 0.649     , 0.649     , 0.654     , 0.651     , 0.656     , 0.654     , 0.652     , 0.649     , 0.649     , 0.647     , 0.643     , 0.641     , 0.641     , 0.633     , 0.628     , 0.624     , 0.622     , 0.614     , 0.61      , 0.605     , 0.594     , 0.592     , 0.591     , 0.578     , 0.575     , 0.566     , 0.567     , 0.552     , 0.554     , 0.539     , 0.54      , 0.53      , 0.52      , 0.527     , 0.5       , 0.514     , 0.498     , 0.491     , 0.49      , 0.486     , 0.466     , 0.477     , 0.464     , 0.458     , 0.454     , 0.447     , 0.445     , 0.432     , 0.434     , 0.427     , 0.425     , 0.406     , 0.427     , 0.389     , 0.421     , 0.376     , 0.41      , 0.37      , 0.396     , 0.373     , 0.37      , 0.381     , 0.35      , 0.377     , 0.343     , 0.363     , 0.344     , 0.349     , 0.336     , 0.341     , 0.332     , 0.334     , 0.324     ])\n",
            "possible alpha = 0.05\n",
            "alpha_1 = 0.05\n",
            "x_next = [-0.10081808  0.34355046  0.432759  ]\n",
            "iteration: 8\n",
            "norma = 0.5553095486622934\n",
            "h_t_method_1_array = array([0.01745241, 0.06      , 0.101     , 0.143     , 0.181     , 0.221     , 0.257     , 0.296     , 0.328     , 0.358     , 0.39      , 0.422     , 0.447     , 0.473     , 0.498     , 0.519     , 0.54      , 0.559     , 0.577     , 0.594     , 0.608     , 0.622     , 0.635     , 0.645     , 0.653     , 0.662     , 0.67      , 0.675     , 0.679     , 0.685     , 0.686     , 0.688     , 0.693     , 0.687     , 0.693     , 0.69      , 0.689     , 0.688     , 0.688     , 0.679     , 0.683     , 0.674     , 0.673     , 0.664     , 0.664     , 0.66      , 0.653     , 0.647     , 0.645     , 0.639     , 0.629     , 0.63      , 0.618     , 0.619     , 0.607     , 0.607     , 0.594     , 0.595     , 0.581     , 0.583     , 0.575     , 0.567     , 0.564     , 0.553     , 0.551     , 0.548     , 0.533     , 0.535     , 0.526     , 0.527     , 0.506     , 0.523     , 0.489     , 0.513     , 0.488     , 0.494     , 0.48      , 0.479     , 0.481     , 0.46      , 0.48      , 0.436     , 0.478     , 0.436     , 0.459     , 0.424     , 0.453     , 0.423     , 0.43      , 0.429     , 0.413     , 0.427     , 0.4       , 0.413     , 0.406     , 0.394     , 0.407     , 0.378     , 0.403     , 0.378     , 0.389     ])\n",
            "possible alpha = 0.05\n",
            "alpha_1 = 0.05\n",
            "x_next = [-0.13027088  0.32738596  0.4221478 ]\n",
            "iteration: 9\n",
            "norma = 0.5085891236172477\n",
            "h_t_method_1_array = array([0.01745241, 0.061     , 0.103     , 0.146     , 0.185     , 0.226     , 0.263     , 0.3       , 0.336     , 0.367     , 0.4       , 0.433     , 0.459     , 0.485     , 0.512     , 0.535     , 0.558     , 0.579     , 0.597     , 0.616     , 0.63      , 0.644     , 0.66      , 0.668     , 0.681     , 0.689     , 0.697     , 0.702     , 0.711     , 0.713     , 0.719     , 0.721     , 0.724     , 0.723     , 0.728     , 0.721     , 0.727     , 0.725     , 0.724     , 0.72      , 0.718     , 0.717     , 0.709     , 0.71      , 0.704     , 0.698     , 0.697     , 0.689     , 0.683     , 0.684     , 0.675     , 0.672     , 0.663     , 0.662     , 0.654     , 0.644     , 0.647     , 0.63      , 0.637     , 0.617     , 0.627     , 0.607     , 0.607     , 0.609     , 0.586     , 0.598     , 0.588     , 0.569     , 0.586     , 0.562     , 0.567     , 0.553     , 0.562     , 0.534     , 0.553     , 0.533     , 0.535     , 0.522     , 0.533     , 0.505     , 0.527     , 0.493     , 0.512     , 0.501     , 0.49      , 0.499     , 0.48      , 0.483     , 0.485     , 0.463     , 0.479     , 0.461     , 0.457     , 0.47      , 0.445     , 0.457     , 0.444     , 0.45      , 0.431     , 0.445     , 0.431     ])\n",
            "possible alpha = 0.05\n",
            "alpha_1 = 0.05\n",
            "x_next = [-0.15616062  0.31301774  0.41139018]\n",
            "iteration: 10\n",
            "norma = 0.49145466534605203\n",
            "h_t_method_1_array = array([0.01745241, 0.062     , 0.105     , 0.149     , 0.189     , 0.231     , 0.268     , 0.304     , 0.344     , 0.376     , 0.406     , 0.444     , 0.471     , 0.496     , 0.526     , 0.551     , 0.573     , 0.596     , 0.615     , 0.632     , 0.65      , 0.667     , 0.68      , 0.692     , 0.704     , 0.714     , 0.722     , 0.731     , 0.735     , 0.743     , 0.747     , 0.752     , 0.751     , 0.759     , 0.754     , 0.763     , 0.756     , 0.755     , 0.757     , 0.755     , 0.754     , 0.751     , 0.747     , 0.744     , 0.742     , 0.737     , 0.733     , 0.729     , 0.724     , 0.719     , 0.714     , 0.711     , 0.706     , 0.7       , 0.694     , 0.688     , 0.684     , 0.681     , 0.665     , 0.676     , 0.65      , 0.667     , 0.644     , 0.644     , 0.644     , 0.626     , 0.635     , 0.622     , 0.616     , 0.612     , 0.617     , 0.584     , 0.619     , 0.572     , 0.602     , 0.569     , 0.591     , 0.561     , 0.573     , 0.563     , 0.557     , 0.56      , 0.537     , 0.553     , 0.544     , 0.529     , 0.537     , 0.527     , 0.518     , 0.531     , 0.508     , 0.517     , 0.505     , 0.504     , 0.509     , 0.488     , 0.5       , 0.492     , 0.478     , 0.496     , 0.473     ])\n",
            "possible alpha = 0.05\n",
            "alpha_1 = 0.05\n",
            "x_next = [-0.17876126  0.29954186  0.40150348]\n",
            "iteration: 11\n",
            "norma = 0.431234516818494\n",
            "h_t_method_1_array = array([0.01745241, 0.062     , 0.107     , 0.149     , 0.193     , 0.232     , 0.274     , 0.31      , 0.35      , 0.385     , 0.416     , 0.455     , 0.483     , 0.509     , 0.535     , 0.564     , 0.588     , 0.611     , 0.632     , 0.65      , 0.669     , 0.685     , 0.7       , 0.713     , 0.725     , 0.737     , 0.746     , 0.754     , 0.763     , 0.768     , 0.775     , 0.779     , 0.782     , 0.784     , 0.789     , 0.786     , 0.793     , 0.788     , 0.786     , 0.788     , 0.787     , 0.783     , 0.782     , 0.778     , 0.776     , 0.773     , 0.767     , 0.769     , 0.757     , 0.755     , 0.752     , 0.746     , 0.743     , 0.737     , 0.734     , 0.723     , 0.726     , 0.714     , 0.709     , 0.707     , 0.702     , 0.692     , 0.695     , 0.682     , 0.68      , 0.675     , 0.668     , 0.665     , 0.658     , 0.655     , 0.644     , 0.653     , 0.629     , 0.635     , 0.633     , 0.618     , 0.617     , 0.619     , 0.605     , 0.607     , 0.597     , 0.598     , 0.594     , 0.578     , 0.59      , 0.581     , 0.559     , 0.593     , 0.538     , 0.591     , 0.532     , 0.576     , 0.533     , 0.561     , 0.535     , 0.538     , 0.545     , 0.529     , 0.525     , 0.539     , 0.506     ])\n",
            "possible alpha = 0.05\n",
            "alpha_1 = 0.05\n",
            "x_next = [-0.19892894  0.28708198  0.3923051 ]\n",
            "iteration: 12\n",
            "norma = 0.4004538557876551\n",
            "h_t_method_1_array = array([0.01745241, 0.063     , 0.108     , 0.152     , 0.194     , 0.237     , 0.276     , 0.317     , 0.352     , 0.394     , 0.426     , 0.456     , 0.495     , 0.522     , 0.547     , 0.574     , 0.602     , 0.624     , 0.647     , 0.666     , 0.685     , 0.703     , 0.717     , 0.732     , 0.747     , 0.756     , 0.769     , 0.778     , 0.784     , 0.794     , 0.797     , 0.804     , 0.809     , 0.812     , 0.813     , 0.816     , 0.817     , 0.821     , 0.817     , 0.816     , 0.818     , 0.816     , 0.812     , 0.812     , 0.808     , 0.803     , 0.804     , 0.797     , 0.797     , 0.787     , 0.788     , 0.78      , 0.778     , 0.771     , 0.769     , 0.765     , 0.753     , 0.759     , 0.738     , 0.752     , 0.73      , 0.737     , 0.722     , 0.724     , 0.722     , 0.703     , 0.713     , 0.696     , 0.699     , 0.689     , 0.688     , 0.681     , 0.669     , 0.683     , 0.654     , 0.674     , 0.646     , 0.656     , 0.649     , 0.642     , 0.633     , 0.642     , 0.621     , 0.633     , 0.614     , 0.626     , 0.601     , 0.626     , 0.589     , 0.612     , 0.595     , 0.591     , 0.592     , 0.592     , 0.573     , 0.595     , 0.558     , 0.591     , 0.552     , 0.577     , 0.568     ])\n",
            "possible alpha = 0.05\n",
            "alpha_1 = 0.05\n",
            "x_next = [-0.2166376   0.27540798  0.38362286]\n",
            "iteration: 13\n",
            "norma = 0.3569313727043898\n",
            "h_t_method_1_array = array([0.01745241, 0.064     , 0.109     , 0.154     , 0.197     , 0.24      , 0.281     , 0.32      , 0.36      , 0.394     , 0.435     , 0.467     , 0.496     , 0.535     , 0.561     , 0.585     , 0.611     , 0.637     , 0.659     , 0.68      , 0.699     , 0.718     , 0.734     , 0.75      , 0.763     , 0.777     , 0.788     , 0.798     , 0.807     , 0.814     , 0.821     , 0.826     , 0.832     , 0.835     , 0.842     , 0.84      , 0.844     , 0.845     , 0.845     , 0.844     , 0.845     , 0.845     , 0.845     , 0.84      , 0.841     , 0.833     , 0.834     , 0.827     , 0.826     , 0.821     , 0.82      , 0.812     , 0.811     , 0.805     , 0.801     , 0.794     , 0.795     , 0.781     , 0.785     , 0.773     , 0.774     , 0.766     , 0.758     , 0.758     , 0.751     , 0.748     , 0.739     , 0.736     , 0.733     , 0.723     , 0.725     , 0.713     , 0.716     , 0.7       , 0.705     , 0.694     , 0.698     , 0.684     , 0.682     , 0.69      , 0.659     , 0.685     , 0.658     , 0.662     , 0.667     , 0.639     , 0.659     , 0.642     , 0.636     , 0.651     , 0.615     , 0.649     , 0.614     , 0.629     , 0.622     , 0.617     , 0.613     , 0.608     , 0.61      , 0.6       , 0.598     ])\n",
            "possible alpha = 0.05\n",
            "alpha_1 = 0.05\n",
            "x_next = [-0.23105358  0.26599374  0.3753451 ]\n",
            "iteration: 14\n",
            "norma = 0.32247655060670694\n",
            "h_t_method_1_array = array([0.01745241, 0.064     , 0.11      , 0.155     , 0.199     , 0.242     , 0.284     , 0.324     , 0.362     , 0.403     , 0.436     , 0.472     , 0.507     , 0.535     , 0.561     , 0.599     , 0.622     , 0.643     , 0.67      , 0.692     , 0.713     , 0.732     , 0.749     , 0.764     , 0.78      , 0.792     , 0.804     , 0.815     , 0.825     , 0.833     , 0.841     , 0.847     , 0.854     , 0.859     , 0.86      , 0.865     , 0.866     , 0.869     , 0.868     , 0.87      , 0.869     , 0.871     , 0.865     , 0.867     , 0.864     , 0.864     , 0.86      , 0.855     , 0.854     , 0.847     , 0.845     , 0.847     , 0.832     , 0.836     , 0.824     , 0.833     , 0.812     , 0.819     , 0.806     , 0.81      , 0.799     , 0.792     , 0.799     , 0.776     , 0.789     , 0.768     , 0.774     , 0.769     , 0.755     , 0.763     , 0.746     , 0.748     , 0.74      , 0.742     , 0.726     , 0.73      , 0.729     , 0.71      , 0.723     , 0.7       , 0.717     , 0.692     , 0.704     , 0.687     , 0.692     , 0.681     , 0.69      , 0.655     , 0.705     , 0.64      , 0.684     , 0.653     , 0.656     , 0.67      , 0.627     , 0.672     , 0.627     , 0.64      , 0.658     , 0.602     , 0.666     ])\n",
            "possible alpha = 0.05\n",
            "alpha_1 = 0.05\n",
            "x_next = [-0.24386338  0.25669372  0.36802542]\n",
            "iteration: 15\n",
            "norma = 0.29060861744717764\n",
            "h_t_method_1_array = array([0.01745241, 0.064     , 0.111     , 0.155     , 0.201     , 0.244     , 0.287     , 0.327     , 0.368     , 0.403     , 0.445     , 0.478     , 0.508     , 0.548     , 0.575     , 0.6       , 0.633     , 0.66      , 0.68      , 0.703     , 0.724     , 0.744     , 0.762     , 0.778     , 0.794     , 0.808     , 0.819     , 0.834     , 0.839     , 0.852     , 0.858     , 0.866     , 0.872     , 0.875     , 0.881     , 0.887     , 0.888     , 0.892     , 0.888     , 0.894     , 0.889     , 0.898     , 0.889     , 0.888     , 0.886     , 0.889     , 0.881     , 0.882     , 0.879     , 0.877     , 0.871     , 0.867     , 0.864     , 0.862     , 0.855     , 0.85      , 0.849     , 0.84      , 0.834     , 0.841     , 0.822     , 0.829     , 0.816     , 0.814     , 0.812     , 0.799     , 0.804     , 0.794     , 0.788     , 0.786     , 0.788     , 0.763     , 0.78      , 0.763     , 0.762     , 0.759     , 0.75      , 0.749     , 0.742     , 0.742     , 0.732     , 0.73      , 0.728     , 0.724     , 0.715     , 0.715     , 0.713     , 0.705     , 0.697     , 0.707     , 0.687     , 0.696     , 0.687     , 0.684     , 0.674     , 0.694     , 0.653     , 0.682     , 0.671     , 0.65      , 0.681     ])\n",
            "possible alpha = 0.05\n",
            "alpha_1 = 0.05\n",
            "x_next = [-0.25462212  0.24859254  0.36107222]\n",
            "iteration: 16\n",
            "norma = 0.2429853808560507\n",
            "h_t_method_1_array = array([0.01745241, 0.065     , 0.111     , 0.158     , 0.201     , 0.247     , 0.287     , 0.331     , 0.369     , 0.412     , 0.446     , 0.481     , 0.519     , 0.548     , 0.578     , 0.615     , 0.639     , 0.661     , 0.691     , 0.713     , 0.734     , 0.755     , 0.774     , 0.79      , 0.806     , 0.821     , 0.833     , 0.846     , 0.857     , 0.866     , 0.873     , 0.884     , 0.887     , 0.897     , 0.898     , 0.905     , 0.907     , 0.91      , 0.911     , 0.914     , 0.91      , 0.914     , 0.911     , 0.91      , 0.912     , 0.909     , 0.906     , 0.905     , 0.901     , 0.896     , 0.896     , 0.891     , 0.891     , 0.88      , 0.881     , 0.875     , 0.872     , 0.868     , 0.86      , 0.863     , 0.848     , 0.858     , 0.832     , 0.85      , 0.826     , 0.836     , 0.825     , 0.816     , 0.822     , 0.804     , 0.812     , 0.798     , 0.8       , 0.794     , 0.779     , 0.789     , 0.78      , 0.766     , 0.774     , 0.765     , 0.763     , 0.75      , 0.76      , 0.741     , 0.749     , 0.737     , 0.742     , 0.727     , 0.734     , 0.72      , 0.721     , 0.727     , 0.7       , 0.724     , 0.696     , 0.706     , 0.709     , 0.673     , 0.735     , 0.641     , 0.734     ])\n",
            "possible alpha = 0.05\n",
            "alpha_1 = 0.05\n",
            "x_next = [-0.26366398  0.24226538  0.35550614]\n",
            "iteration: 17\n",
            "norma = 0.21136136753607554\n",
            "h_t_method_1_array = array([0.01745241, 0.065     , 0.112     , 0.158     , 0.204     , 0.247     , 0.292     , 0.332     , 0.374     , 0.412     , 0.449     , 0.489     , 0.52      , 0.554     , 0.589     , 0.615     , 0.639     , 0.677     , 0.698     , 0.717     , 0.743     , 0.763     , 0.783     , 0.799     , 0.816     , 0.832     , 0.846     , 0.857     , 0.87      , 0.879     , 0.889     , 0.896     , 0.903     , 0.908     , 0.917     , 0.917     , 0.923     , 0.924     , 0.927     , 0.929     , 0.928     , 0.934     , 0.925     , 0.933     , 0.926     , 0.926     , 0.926     , 0.92      , 0.923     , 0.917     , 0.916     , 0.911     , 0.907     , 0.901     , 0.906     , 0.89      , 0.894     , 0.886     , 0.889     , 0.872     , 0.882     , 0.86      , 0.876     , 0.854     , 0.861     , 0.847     , 0.85      , 0.838     , 0.839     , 0.831     , 0.832     , 0.819     , 0.82      , 0.818     , 0.803     , 0.809     , 0.796     , 0.799     , 0.788     , 0.789     , 0.784     , 0.772     , 0.78      , 0.767     , 0.771     , 0.753     , 0.769     , 0.742     , 0.765     , 0.733     , 0.754     , 0.741     , 0.725     , 0.746     , 0.719     , 0.732     , 0.718     , 0.72      , 0.712     , 0.722     , 0.689     ])\n",
            "possible alpha = 0.05\n",
            "alpha_1 = 0.05\n",
            "x_next = [-0.27158208  0.23676058  0.35116484]\n",
            "iteration: 18\n",
            "norma = 0.1934503039083682\n",
            "h_t_method_1_array = array([0.01745241, 0.065     , 0.113     , 0.158     , 0.205     , 0.248     , 0.293     , 0.334     , 0.376     , 0.413     , 0.456     , 0.489     , 0.525     , 0.561     , 0.589     , 0.619     , 0.654     , 0.677     , 0.698     , 0.729     , 0.751     , 0.771     , 0.792     , 0.809     , 0.826     , 0.84      , 0.856     , 0.868     , 0.879     , 0.892     , 0.899     , 0.907     , 0.917     , 0.92      , 0.929     , 0.931     , 0.938     , 0.938     , 0.942     , 0.944     , 0.945     , 0.944     , 0.944     , 0.946     , 0.942     , 0.942     , 0.942     , 0.939     , 0.937     , 0.933     , 0.928     , 0.929     , 0.929     , 0.918     , 0.916     , 0.915     , 0.909     , 0.904     , 0.902     , 0.897     , 0.889     , 0.893     , 0.877     , 0.885     , 0.869     , 0.874     , 0.865     , 0.854     , 0.865     , 0.844     , 0.847     , 0.846     , 0.828     , 0.838     , 0.828     , 0.82      , 0.823     , 0.816     , 0.805     , 0.811     , 0.799     , 0.796     , 0.795     , 0.795     , 0.773     , 0.79      , 0.776     , 0.768     , 0.78      , 0.747     , 0.789     , 0.731     , 0.779     , 0.731     , 0.76      , 0.741     , 0.738     , 0.739     , 0.74      , 0.727     , 0.728     ])\n",
            "possible alpha = 0.05\n",
            "alpha_1 = 0.05\n",
            "x_next = [-0.27813862  0.23167514  0.34642006]\n",
            "iteration: 19\n",
            "norma = 0.1454568033010488\n",
            "h_t_method_1_array = array([0.01745241, 0.065     , 0.113     , 0.16      , 0.205     , 0.251     , 0.293     , 0.338     , 0.376     , 0.418     , 0.456     , 0.492     , 0.53      , 0.562     , 0.594     , 0.63      , 0.655     , 0.678     , 0.716     , 0.736     , 0.754     , 0.779     , 0.796     , 0.817     , 0.833     , 0.851     , 0.863     , 0.877     , 0.89      , 0.9       , 0.911     , 0.92      , 0.925     , 0.934     , 0.939     , 0.946     , 0.946     , 0.954     , 0.954     , 0.955     , 0.959     , 0.956     , 0.962     , 0.955     , 0.962     , 0.956     , 0.956     , 0.955     , 0.949     , 0.953     , 0.943     , 0.947     , 0.94      , 0.936     , 0.93      , 0.935     , 0.922     , 0.922     , 0.917     , 0.915     , 0.907     , 0.907     , 0.897     , 0.899     , 0.886     , 0.89      , 0.883     , 0.874     , 0.876     , 0.864     , 0.867     , 0.861     , 0.848     , 0.857     , 0.839     , 0.844     , 0.837     , 0.834     , 0.82      , 0.835     , 0.805     , 0.827     , 0.802     , 0.819     , 0.786     , 0.816     , 0.782     , 0.8       , 0.779     , 0.786     , 0.783     , 0.775     , 0.767     , 0.776     , 0.765     , 0.762     , 0.752     , 0.772     , 0.734     , 0.765     , 0.74      ])\n",
            "possible alpha = 0.05\n",
            "alpha_1 = 0.05\n",
            "x_next = [-0.2831715   0.22810838  0.34343028]\n",
            "iteration: 20\n",
            "norma = 0.13940194489604515\n",
            "h_t_method_1_array = array([0.01745241, 0.066     , 0.113     , 0.161     , 0.205     , 0.252     , 0.293     , 0.338     , 0.378     , 0.421     , 0.456     , 0.496     , 0.532     , 0.563     , 0.601     , 0.63      , 0.655     , 0.694     , 0.716     , 0.736     , 0.761     , 0.784     , 0.803     , 0.823     , 0.839     , 0.856     , 0.871     , 0.885     , 0.895     , 0.907     , 0.92      , 0.925     , 0.935     , 0.941     , 0.949     , 0.95      , 0.958     , 0.96      , 0.964     , 0.967     , 0.966     , 0.969     , 0.966     , 0.973     , 0.965     , 0.969     , 0.967     , 0.962     , 0.964     , 0.963     , 0.956     , 0.956     , 0.949     , 0.951     , 0.943     , 0.942     , 0.937     , 0.93      , 0.935     , 0.92      , 0.923     , 0.916     , 0.911     , 0.909     , 0.903     , 0.9       , 0.889     , 0.898     , 0.875     , 0.892     , 0.866     , 0.879     , 0.864     , 0.862     , 0.857     , 0.86      , 0.846     , 0.842     , 0.847     , 0.831     , 0.831     , 0.833     , 0.813     , 0.833     , 0.8       , 0.822     , 0.797     , 0.817     , 0.779     , 0.82      , 0.775     , 0.802     , 0.778     , 0.782     , 0.782     , 0.777     , 0.765     , 0.782     , 0.748     , 0.778     , 0.753     ])\n",
            "possible alpha = 0.05\n",
            "alpha_1 = 0.05\n",
            "x_next = [-0.28770948  0.22491738  0.33959162]\n",
            "iteration: 21\n",
            "norma = 0.11966960219337242\n",
            "h_t_method_1_array = array([0.01745241, 0.066     , 0.113     , 0.161     , 0.205     , 0.252     , 0.296     , 0.338     , 0.381     , 0.421     , 0.458     , 0.5       , 0.532     , 0.568     , 0.603     , 0.63      , 0.662     , 0.694     , 0.716     , 0.736     , 0.768     , 0.789     , 0.81      , 0.828     , 0.846     , 0.863     , 0.876     , 0.89      , 0.904     , 0.914     , 0.926     , 0.935     , 0.942     , 0.951     , 0.956     , 0.962     , 0.966     , 0.971     , 0.973     , 0.975     , 0.977     , 0.978     , 0.98      , 0.975     , 0.983     , 0.978     , 0.977     , 0.976     , 0.974     , 0.971     , 0.968     , 0.964     , 0.968     , 0.953     , 0.962     , 0.95      , 0.946     , 0.954     , 0.935     , 0.941     , 0.934     , 0.926     , 0.924     , 0.92      , 0.915     , 0.913     , 0.904     , 0.906     , 0.899     , 0.888     , 0.895     , 0.881     , 0.878     , 0.886     , 0.86      , 0.871     , 0.864     , 0.849     , 0.867     , 0.833     , 0.862     , 0.822     , 0.857     , 0.812     , 0.851     , 0.802     , 0.84      , 0.803     , 0.822     , 0.805     , 0.808     , 0.802     , 0.789     , 0.819     , 0.758     , 0.826     , 0.744     , 0.823     , 0.741     , 0.805     , 0.749     ])\n",
            "possible alpha = 0.05\n",
            "alpha_1 = 0.05\n",
            "x_next = [-0.29144752  0.22207712  0.3367482 ]\n",
            "iteration: 22\n",
            "norma = 0.09109835601238914\n",
            "h_t_method_1_array = array([0.01745241, 0.066     , 0.113     , 0.161     , 0.207     , 0.252     , 0.298     , 0.339     , 0.383     , 0.421     , 0.462     , 0.5       , 0.534     , 0.571     , 0.603     , 0.632     , 0.67      , 0.695     , 0.717     , 0.749     , 0.773     , 0.79      , 0.813     , 0.831     , 0.851     , 0.867     , 0.883     , 0.896     , 0.91      , 0.921     , 0.93      , 0.941     , 0.948     , 0.958     , 0.962     , 0.971     , 0.972     , 0.977     , 0.983     , 0.983     , 0.983     , 0.988     , 0.987     , 0.99      , 0.982     , 0.994     , 0.982     , 0.986     , 0.983     , 0.98      , 0.98      , 0.975     , 0.975     , 0.968     , 0.967     , 0.96      , 0.966     , 0.95      , 0.955     , 0.946     , 0.944     , 0.938     , 0.936     , 0.926     , 0.931     , 0.915     , 0.922     , 0.908     , 0.912     , 0.9       , 0.905     , 0.887     , 0.897     , 0.878     , 0.888     , 0.876     , 0.87      , 0.872     , 0.864     , 0.858     , 0.855     , 0.854     , 0.848     , 0.841     , 0.845     , 0.826     , 0.839     , 0.825     , 0.818     , 0.832     , 0.803     , 0.823     , 0.803     , 0.808     , 0.802     , 0.799     , 0.793     , 0.796     , 0.779     , 0.803     , 0.764     ])\n",
            "possible alpha = 0.05\n",
            "alpha_1 = 0.05\n",
            "x_next = [-0.29444788  0.21957976  0.3348045 ]\n",
            "iteration: 23\n",
            "norma = 0.07798495685605016\n",
            "h_t_method_1_array = array([0.01745241, 0.066     , 0.114     , 0.161     , 0.208     , 0.252     , 0.298     , 0.339     , 0.384     , 0.421     , 0.464     , 0.5       , 0.536     , 0.574     , 0.603     , 0.638     , 0.671     , 0.695     , 0.717     , 0.755     , 0.774     , 0.793     , 0.817     , 0.834     , 0.854     , 0.87      , 0.887     , 0.902     , 0.913     , 0.926     , 0.937     , 0.945     , 0.955     , 0.961     , 0.969     , 0.972     , 0.982     , 0.983     , 0.988     , 0.988     , 0.994     , 0.993     , 0.995     , 0.994     , 0.997     , 0.988     , 0.999     , 0.99      , 0.991     , 0.986     , 0.988     , 0.98      , 0.983     , 0.975     , 0.974     , 0.97      , 0.967     , 0.966     , 0.954     , 0.961     , 0.948     , 0.946     , 0.946     , 0.934     , 0.937     , 0.928     , 0.924     , 0.923     , 0.919     , 0.904     , 0.918     , 0.889     , 0.914     , 0.884     , 0.896     , 0.881     , 0.886     , 0.87      , 0.879     , 0.86      , 0.876     , 0.847     , 0.865     , 0.844     , 0.857     , 0.832     , 0.848     , 0.828     , 0.838     , 0.821     , 0.833     , 0.815     , 0.819     , 0.818     , 0.802     , 0.826     , 0.774     , 0.832     , 0.773     , 0.81      , 0.785     ])\n",
            "possible alpha = 0.05\n",
            "alpha_1 = 0.05\n",
            "x_next = [-0.29708502  0.21768564  0.33323308]\n",
            "iteration: 24\n",
            "norma = 0.06630138221304291\n",
            "h_t_method_1_array = array([0.01745241, 0.066     , 0.114     , 0.161     , 0.209     , 0.252     , 0.298     , 0.34      , 0.384     , 0.422     , 0.466     , 0.5       , 0.538     , 0.574     , 0.605     , 0.64      , 0.671     , 0.695     , 0.734     , 0.755     , 0.774     , 0.797     , 0.82      , 0.838     , 0.857     , 0.874     , 0.891     , 0.906     , 0.915     , 0.93      , 0.94      , 0.949     , 0.96      , 0.967     , 0.974     , 0.978     , 0.984     , 0.988     , 0.992     , 0.996     , 0.998     , 0.997     , 1.        , 0.996     , 1.004     , 0.998     , 0.997     , 0.999     , 0.994     , 0.994     , 0.993     , 0.988     , 0.987     , 0.982     , 0.977     , 0.982     , 0.97      , 0.971     , 0.964     , 0.965     , 0.956     , 0.958     , 0.947     , 0.943     , 0.947     , 0.928     , 0.94      , 0.922     , 0.927     , 0.914     , 0.92      , 0.905     , 0.907     , 0.904     , 0.892     , 0.898     , 0.879     , 0.896     , 0.87      , 0.877     , 0.878     , 0.855     , 0.869     , 0.858     , 0.852     , 0.849     , 0.858     , 0.829     , 0.855     , 0.821     , 0.842     , 0.823     , 0.821     , 0.833     , 0.802     , 0.829     , 0.8       , 0.808     , 0.811     , 0.793     , 0.807     ])\n",
            "possible alpha = 0.05\n",
            "alpha_1 = 0.05\n",
            "x_next = [-0.29907644  0.21594916  0.33194842]\n",
            "iteration: 25\n",
            "norma = 0.0457356237311792\n",
            "Answer\n",
            "[-0.29907644  0.21594916  0.33194842]\n"
          ],
          "name": "stdout"
        }
      ]
    },
    {
      "cell_type": "markdown",
      "metadata": {
        "id": "qCRmwyC7TxnV"
      },
      "source": [
        "# Graphs for compring gradient results with original"
      ]
    },
    {
      "cell_type": "code",
      "metadata": {
        "id": "O2YyPW-2UloW"
      },
      "source": [
        "#function for getting array of fi values from given array of arguments\n",
        "def build_fi_values_from_args(args):\n",
        "  ret_value_array = np.zeros(len(args))\n",
        "  if (controller == 1):\n",
        "    !cp \"drive/My Drive/Science_res/base/Fiu.py\" .\n",
        "    import Fiu\n",
        "  if (controller == 2):\n",
        "    !cp \"drive/My Drive/Science_res/trigonometric/Fiu.py\" .\n",
        "    import Fiu\n",
        "  if (controller == 3):\n",
        "    !cp \"drive/My Drive/Science_res/degreeFunctions/Fiu.py\" .\n",
        "    import Fiu\n",
        "  \n",
        "  fi_u = Fiu.Fi_t()\n",
        "  for i in range(len(args)):\n",
        "    ret_value_array[i] = fi_u.compute(args[i])\n",
        "  \n",
        "  return ret_value_array"
      ],
      "execution_count": null,
      "outputs": []
    },
    {
      "cell_type": "code",
      "metadata": {
        "id": "mhRp6MQ2X-oK"
      },
      "source": [
        "#compute fi values from computed gradiend coefficients\n",
        "def build_computed_fi_values_from_args(args, fi_0, fi_1, fi_2):\n",
        "  ret_value_array = np.zeros(len(args))\n",
        "\n",
        "  for i in range(len(args)):\n",
        "    ret_value_array[i] = calculateFi(args[i],   fi_0, fi_1, fi_2)\n",
        "\n",
        "  return ret_value_array\n",
        "  "
      ],
      "execution_count": null,
      "outputs": []
    },
    {
      "cell_type": "code",
      "metadata": {
        "colab": {
          "base_uri": "https://localhost:8080/",
          "height": 616
        },
        "id": "7HsIRymqT7-p",
        "outputId": "a81b065d-d559-48cc-c6bb-c2908d2564ab"
      },
      "source": [
        "#graph results\n",
        "\n",
        "\n",
        "my_fig_size = 10\n",
        "fig = plt.figure(figsize=(my_fig_size+5,my_fig_size))\n",
        "\n",
        "ax=fig.add_subplot(111)\n",
        "\n",
        "#set title\n",
        "ax.set_title(' Graph for fi(S) ')\n",
        "\n",
        "# Set common labels\n",
        "fig.text(0.9, 0.1, 's', ha='center', va='center',fontsize=16)\n",
        "fig.text(0.106, 0.88, 'fi(s)', ha='center', va='center',fontsize=16)\n",
        "\n",
        "min_h = np.amin(DESCRETE_values_h_t_func)\n",
        "max_h = np.amax(DESCRETE_values_h_t_func)\n",
        "\n",
        "s_args = np.arange(min_h, max_h, 0.01)\n",
        "\n",
        "\n",
        "f_0 = x_next[0]\n",
        "f_1 = x_next[1]\n",
        "f_2 = x_next[2]\n",
        "\n",
        "\n",
        "s_value = build_computed_fi_values_from_args(s_args, fi_0, fi_1, fi_2)\n",
        "\n",
        "s_original_value = build_fi_values_from_args(s_args)\n",
        "\n",
        "# ax.set_xlim([0,2])\n",
        "# ax.set_ylim([0,1])\n",
        "\n",
        "plt.plot(s_args,s_value, marker=\"o\",color = \"r\")\n",
        "plt.plot(s_args,s_original_value, marker=\".\",color = \"k\")\n",
        "plt.grid()\n",
        "\n",
        "\n",
        "\n",
        "# ax.spines['left'].set_position('zero')\n",
        "ax.spines['right'].set_color('none')\n",
        "# ax.spines['bottom'].set_position('zero')\n",
        "ax.spines['top'].set_color('none')\n",
        "\n",
        "# remove the ticks from the top and right edges\n",
        "ax.xaxis.set_ticks_position('bottom')\n",
        "ax.yaxis.set_ticks_position('left')"
      ],
      "execution_count": null,
      "outputs": [
        {
          "output_type": "display_data",
          "data": {
            "image/png": "[encoded data removed]",
            "text/plain": [
              "<Figure size 1080x720 with 1 Axes>"
            ]
          },
          "metadata": {
            "tags": [],
            "needs_background": "light"
          }
        }
      ]
    }
  ]
}